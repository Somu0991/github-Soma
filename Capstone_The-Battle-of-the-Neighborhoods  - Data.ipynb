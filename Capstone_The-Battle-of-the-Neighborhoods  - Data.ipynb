{
 "cells": [
  {
   "cell_type": "markdown",
   "metadata": {},
   "source": [
    "# DATA DESCRIPTION"
   ]
  },
  {
   "cell_type": "markdown",
   "metadata": {},
   "source": [
    "## To get the desired result, I need the following Data - "
   ]
  },
  {
   "cell_type": "markdown",
   "metadata": {},
   "source": [
    "- Rent rates of important areas in Coimbatore. I have a acquired the data from different open sourced web pages. \n",
    "- GeoJson for Coimbatore city. There was only one file with geo data of Coimbatore based on ward numbers. The geojson is needed for creating Chloropleth map. Ward details for important areas were retrieved from public websites.\n",
    "- Next, list of venues in importatant areas of coimbatore will be retrieved from FourSquare wesbite\n",
    "- For getting the latitude and longitude values of importatnt areas, I used Python geocoder package.\n"
   ]
  },
  {
   "cell_type": "code",
   "execution_count": null,
   "metadata": {},
   "outputs": [],
   "source": []
  }
 ],
 "metadata": {
  "kernelspec": {
   "display_name": "Python",
   "language": "python",
   "name": "conda-env-python-py"
  },
  "language_info": {
   "codemirror_mode": {
    "name": "ipython",
    "version": 3
   },
   "file_extension": ".py",
   "mimetype": "text/x-python",
   "name": "python",
   "nbconvert_exporter": "python",
   "pygments_lexer": "ipython3",
   "version": "3.6.7"
  }
 },
 "nbformat": 4,
 "nbformat_minor": 4
}
